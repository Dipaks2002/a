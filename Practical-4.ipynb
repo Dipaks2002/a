{
 "cells": [
  {
   "cell_type": "code",
   "execution_count": 1,
   "id": "845d2729",
   "metadata": {},
   "outputs": [],
   "source": [
    "import pandas as pd"
   ]
  },
  {
   "cell_type": "code",
   "execution_count": 2,
   "id": "dcad6ce0",
   "metadata": {},
   "outputs": [],
   "source": [
    "import numpy as np"
   ]
  },
  {
   "cell_type": "code",
   "execution_count": 3,
   "id": "bb613125",
   "metadata": {},
   "outputs": [],
   "source": [
    "import matplotlib.pyplot as plt"
   ]
  },
  {
   "cell_type": "code",
   "execution_count": 4,
   "id": "24440785",
   "metadata": {},
   "outputs": [],
   "source": [
    "from sklearn import linear_model"
   ]
  },
  {
   "cell_type": "code",
   "execution_count": 8,
   "id": "9394ce57",
   "metadata": {},
   "outputs": [],
   "source": [
    "from sklearn.model_selection import train_test_split"
   ]
  },
  {
   "cell_type": "code",
   "execution_count": 9,
   "id": "401d13c7",
   "metadata": {},
   "outputs": [],
   "source": [
    "sheet = pd.read_csv(\"C:/Users/HP/Desktop/archive/HousingData.csv\")"
   ]
  },
  {
   "cell_type": "code",
   "execution_count": 34,
   "id": "5b0c1260",
   "metadata": {},
   "outputs": [],
   "source": [
    "sheet=sheet.dropna()"
   ]
  },
  {
   "cell_type": "code",
   "execution_count": 35,
   "id": "8fdc3636",
   "metadata": {},
   "outputs": [
    {
     "data": {
      "text/html": [
       "<div>\n",
       "<style scoped>\n",
       "    .dataframe tbody tr th:only-of-type {\n",
       "        vertical-align: middle;\n",
       "    }\n",
       "\n",
       "    .dataframe tbody tr th {\n",
       "        vertical-align: top;\n",
       "    }\n",
       "\n",
       "    .dataframe thead th {\n",
       "        text-align: right;\n",
       "    }\n",
       "</style>\n",
       "<table border=\"1\" class=\"dataframe\">\n",
       "  <thead>\n",
       "    <tr style=\"text-align: right;\">\n",
       "      <th></th>\n",
       "      <th>CRIM</th>\n",
       "      <th>ZN</th>\n",
       "      <th>INDUS</th>\n",
       "      <th>CHAS</th>\n",
       "      <th>NOX</th>\n",
       "      <th>RM</th>\n",
       "      <th>AGE</th>\n",
       "      <th>DIS</th>\n",
       "      <th>RAD</th>\n",
       "      <th>TAX</th>\n",
       "      <th>PTRATIO</th>\n",
       "      <th>B</th>\n",
       "      <th>LSTAT</th>\n",
       "      <th>MEDV</th>\n",
       "    </tr>\n",
       "  </thead>\n",
       "  <tbody>\n",
       "    <tr>\n",
       "      <th>count</th>\n",
       "      <td>394.000000</td>\n",
       "      <td>394.000000</td>\n",
       "      <td>394.000000</td>\n",
       "      <td>394.000000</td>\n",
       "      <td>394.000000</td>\n",
       "      <td>394.000000</td>\n",
       "      <td>394.000000</td>\n",
       "      <td>394.000000</td>\n",
       "      <td>394.000000</td>\n",
       "      <td>394.000000</td>\n",
       "      <td>394.000000</td>\n",
       "      <td>394.000000</td>\n",
       "      <td>394.000000</td>\n",
       "      <td>394.000000</td>\n",
       "    </tr>\n",
       "    <tr>\n",
       "      <th>mean</th>\n",
       "      <td>3.690136</td>\n",
       "      <td>11.460660</td>\n",
       "      <td>11.000863</td>\n",
       "      <td>0.068528</td>\n",
       "      <td>0.553215</td>\n",
       "      <td>6.280015</td>\n",
       "      <td>68.932741</td>\n",
       "      <td>3.805268</td>\n",
       "      <td>9.403553</td>\n",
       "      <td>406.431472</td>\n",
       "      <td>18.537563</td>\n",
       "      <td>358.490939</td>\n",
       "      <td>12.769112</td>\n",
       "      <td>22.359645</td>\n",
       "    </tr>\n",
       "    <tr>\n",
       "      <th>std</th>\n",
       "      <td>9.202423</td>\n",
       "      <td>23.954082</td>\n",
       "      <td>6.908364</td>\n",
       "      <td>0.252971</td>\n",
       "      <td>0.113112</td>\n",
       "      <td>0.697985</td>\n",
       "      <td>27.888705</td>\n",
       "      <td>2.098571</td>\n",
       "      <td>8.633451</td>\n",
       "      <td>168.312419</td>\n",
       "      <td>2.166460</td>\n",
       "      <td>89.283295</td>\n",
       "      <td>7.308430</td>\n",
       "      <td>9.142979</td>\n",
       "    </tr>\n",
       "    <tr>\n",
       "      <th>min</th>\n",
       "      <td>0.006320</td>\n",
       "      <td>0.000000</td>\n",
       "      <td>0.460000</td>\n",
       "      <td>0.000000</td>\n",
       "      <td>0.389000</td>\n",
       "      <td>3.561000</td>\n",
       "      <td>2.900000</td>\n",
       "      <td>1.129600</td>\n",
       "      <td>1.000000</td>\n",
       "      <td>187.000000</td>\n",
       "      <td>12.600000</td>\n",
       "      <td>2.600000</td>\n",
       "      <td>1.730000</td>\n",
       "      <td>5.000000</td>\n",
       "    </tr>\n",
       "    <tr>\n",
       "      <th>25%</th>\n",
       "      <td>0.081955</td>\n",
       "      <td>0.000000</td>\n",
       "      <td>5.130000</td>\n",
       "      <td>0.000000</td>\n",
       "      <td>0.453000</td>\n",
       "      <td>5.879250</td>\n",
       "      <td>45.475000</td>\n",
       "      <td>2.110100</td>\n",
       "      <td>4.000000</td>\n",
       "      <td>280.250000</td>\n",
       "      <td>17.400000</td>\n",
       "      <td>376.707500</td>\n",
       "      <td>7.125000</td>\n",
       "      <td>16.800000</td>\n",
       "    </tr>\n",
       "    <tr>\n",
       "      <th>50%</th>\n",
       "      <td>0.268880</td>\n",
       "      <td>0.000000</td>\n",
       "      <td>8.560000</td>\n",
       "      <td>0.000000</td>\n",
       "      <td>0.538000</td>\n",
       "      <td>6.201500</td>\n",
       "      <td>77.700000</td>\n",
       "      <td>3.199200</td>\n",
       "      <td>5.000000</td>\n",
       "      <td>330.000000</td>\n",
       "      <td>19.100000</td>\n",
       "      <td>392.190000</td>\n",
       "      <td>11.300000</td>\n",
       "      <td>21.050000</td>\n",
       "    </tr>\n",
       "    <tr>\n",
       "      <th>75%</th>\n",
       "      <td>3.435973</td>\n",
       "      <td>12.500000</td>\n",
       "      <td>18.100000</td>\n",
       "      <td>0.000000</td>\n",
       "      <td>0.624000</td>\n",
       "      <td>6.605500</td>\n",
       "      <td>94.250000</td>\n",
       "      <td>5.116700</td>\n",
       "      <td>24.000000</td>\n",
       "      <td>666.000000</td>\n",
       "      <td>20.200000</td>\n",
       "      <td>396.900000</td>\n",
       "      <td>17.117500</td>\n",
       "      <td>25.000000</td>\n",
       "    </tr>\n",
       "    <tr>\n",
       "      <th>max</th>\n",
       "      <td>88.976200</td>\n",
       "      <td>100.000000</td>\n",
       "      <td>27.740000</td>\n",
       "      <td>1.000000</td>\n",
       "      <td>0.871000</td>\n",
       "      <td>8.780000</td>\n",
       "      <td>100.000000</td>\n",
       "      <td>12.126500</td>\n",
       "      <td>24.000000</td>\n",
       "      <td>711.000000</td>\n",
       "      <td>22.000000</td>\n",
       "      <td>396.900000</td>\n",
       "      <td>37.970000</td>\n",
       "      <td>50.000000</td>\n",
       "    </tr>\n",
       "  </tbody>\n",
       "</table>\n",
       "</div>"
      ],
      "text/plain": [
       "             CRIM          ZN       INDUS        CHAS         NOX          RM  \\\n",
       "count  394.000000  394.000000  394.000000  394.000000  394.000000  394.000000   \n",
       "mean     3.690136   11.460660   11.000863    0.068528    0.553215    6.280015   \n",
       "std      9.202423   23.954082    6.908364    0.252971    0.113112    0.697985   \n",
       "min      0.006320    0.000000    0.460000    0.000000    0.389000    3.561000   \n",
       "25%      0.081955    0.000000    5.130000    0.000000    0.453000    5.879250   \n",
       "50%      0.268880    0.000000    8.560000    0.000000    0.538000    6.201500   \n",
       "75%      3.435973   12.500000   18.100000    0.000000    0.624000    6.605500   \n",
       "max     88.976200  100.000000   27.740000    1.000000    0.871000    8.780000   \n",
       "\n",
       "              AGE         DIS         RAD         TAX     PTRATIO           B  \\\n",
       "count  394.000000  394.000000  394.000000  394.000000  394.000000  394.000000   \n",
       "mean    68.932741    3.805268    9.403553  406.431472   18.537563  358.490939   \n",
       "std     27.888705    2.098571    8.633451  168.312419    2.166460   89.283295   \n",
       "min      2.900000    1.129600    1.000000  187.000000   12.600000    2.600000   \n",
       "25%     45.475000    2.110100    4.000000  280.250000   17.400000  376.707500   \n",
       "50%     77.700000    3.199200    5.000000  330.000000   19.100000  392.190000   \n",
       "75%     94.250000    5.116700   24.000000  666.000000   20.200000  396.900000   \n",
       "max    100.000000   12.126500   24.000000  711.000000   22.000000  396.900000   \n",
       "\n",
       "            LSTAT        MEDV  \n",
       "count  394.000000  394.000000  \n",
       "mean    12.769112   22.359645  \n",
       "std      7.308430    9.142979  \n",
       "min      1.730000    5.000000  \n",
       "25%      7.125000   16.800000  \n",
       "50%     11.300000   21.050000  \n",
       "75%     17.117500   25.000000  \n",
       "max     37.970000   50.000000  "
      ]
     },
     "execution_count": 35,
     "metadata": {},
     "output_type": "execute_result"
    }
   ],
   "source": [
    "sheet.describe()"
   ]
  },
  {
   "cell_type": "code",
   "execution_count": 47,
   "id": "0b5b7e06",
   "metadata": {},
   "outputs": [],
   "source": [
    "sheet_x=pd.read_csv(\"C:/Users/HP/Desktop/archive/HousingData.csv\",usecols=['RM','LSTAT'])"
   ]
  },
  {
   "cell_type": "code",
   "execution_count": 50,
   "id": "f279c17c",
   "metadata": {},
   "outputs": [],
   "source": [
    "sheet_y=pd.read_csv(\"C:/Users/HP/Desktop/archive/HousingData.csv\",usecols=['MEDV'])"
   ]
  },
  {
   "cell_type": "code",
   "execution_count": 51,
   "id": "704a797e",
   "metadata": {},
   "outputs": [
    {
     "data": {
      "text/html": [
       "<div>\n",
       "<style scoped>\n",
       "    .dataframe tbody tr th:only-of-type {\n",
       "        vertical-align: middle;\n",
       "    }\n",
       "\n",
       "    .dataframe tbody tr th {\n",
       "        vertical-align: top;\n",
       "    }\n",
       "\n",
       "    .dataframe thead th {\n",
       "        text-align: right;\n",
       "    }\n",
       "</style>\n",
       "<table border=\"1\" class=\"dataframe\">\n",
       "  <thead>\n",
       "    <tr style=\"text-align: right;\">\n",
       "      <th></th>\n",
       "      <th>RM</th>\n",
       "      <th>LSTAT</th>\n",
       "    </tr>\n",
       "  </thead>\n",
       "  <tbody>\n",
       "    <tr>\n",
       "      <th>count</th>\n",
       "      <td>506.000000</td>\n",
       "      <td>486.000000</td>\n",
       "    </tr>\n",
       "    <tr>\n",
       "      <th>mean</th>\n",
       "      <td>6.284634</td>\n",
       "      <td>12.715432</td>\n",
       "    </tr>\n",
       "    <tr>\n",
       "      <th>std</th>\n",
       "      <td>0.702617</td>\n",
       "      <td>7.155871</td>\n",
       "    </tr>\n",
       "    <tr>\n",
       "      <th>min</th>\n",
       "      <td>3.561000</td>\n",
       "      <td>1.730000</td>\n",
       "    </tr>\n",
       "    <tr>\n",
       "      <th>25%</th>\n",
       "      <td>5.885500</td>\n",
       "      <td>7.125000</td>\n",
       "    </tr>\n",
       "    <tr>\n",
       "      <th>50%</th>\n",
       "      <td>6.208500</td>\n",
       "      <td>11.430000</td>\n",
       "    </tr>\n",
       "    <tr>\n",
       "      <th>75%</th>\n",
       "      <td>6.623500</td>\n",
       "      <td>16.955000</td>\n",
       "    </tr>\n",
       "    <tr>\n",
       "      <th>max</th>\n",
       "      <td>8.780000</td>\n",
       "      <td>37.970000</td>\n",
       "    </tr>\n",
       "  </tbody>\n",
       "</table>\n",
       "</div>"
      ],
      "text/plain": [
       "               RM       LSTAT\n",
       "count  506.000000  486.000000\n",
       "mean     6.284634   12.715432\n",
       "std      0.702617    7.155871\n",
       "min      3.561000    1.730000\n",
       "25%      5.885500    7.125000\n",
       "50%      6.208500   11.430000\n",
       "75%      6.623500   16.955000\n",
       "max      8.780000   37.970000"
      ]
     },
     "execution_count": 51,
     "metadata": {},
     "output_type": "execute_result"
    }
   ],
   "source": [
    "sheet_x.describe()"
   ]
  },
  {
   "cell_type": "code",
   "execution_count": 52,
   "id": "9ae0ba6c",
   "metadata": {},
   "outputs": [],
   "source": [
    "reg=linear_model.LinearRegression()"
   ]
  },
  {
   "cell_type": "code",
   "execution_count": 69,
   "id": "17a750c1",
   "metadata": {},
   "outputs": [
    {
     "data": {
      "text/plain": [
       "MEDV    0\n",
       "dtype: int64"
      ]
     },
     "execution_count": 69,
     "metadata": {},
     "output_type": "execute_result"
    }
   ],
   "source": [
    "sheet_y.isnull().sum()"
   ]
  },
  {
   "cell_type": "code",
   "execution_count": 70,
   "id": "005ca702",
   "metadata": {},
   "outputs": [
    {
     "data": {
      "text/plain": [
       "RM       0\n",
       "LSTAT    0\n",
       "dtype: int64"
      ]
     },
     "execution_count": 70,
     "metadata": {},
     "output_type": "execute_result"
    }
   ],
   "source": [
    "sheet_x.isnull().sum()"
   ]
  },
  {
   "cell_type": "code",
   "execution_count": 71,
   "id": "c6b5e588",
   "metadata": {},
   "outputs": [],
   "source": [
    "x_mean=sheet_x[\"LSTAT\"].mean()"
   ]
  },
  {
   "cell_type": "code",
   "execution_count": 72,
   "id": "06b5618d",
   "metadata": {},
   "outputs": [],
   "source": [
    "x_train,x_test,y_train,y_test=train_test_split(sheet_x,sheet_y,test_size=0.20,random_state=5)"
   ]
  },
  {
   "cell_type": "code",
   "execution_count": 73,
   "id": "6a9d9a6d",
   "metadata": {},
   "outputs": [
    {
     "data": {
      "text/plain": [
       "LinearRegression()"
      ]
     },
     "execution_count": 73,
     "metadata": {},
     "output_type": "execute_result"
    }
   ],
   "source": [
    "reg.fit(x_train,y_train)"
   ]
  },
  {
   "cell_type": "code",
   "execution_count": 74,
   "id": "8411ca0d",
   "metadata": {},
   "outputs": [
    {
     "name": "stdout",
     "output_type": "stream",
     "text": [
      "[[ 4.80625396 -0.70140741]]\n"
     ]
    }
   ],
   "source": [
    "print(reg.coef_)"
   ]
  },
  {
   "cell_type": "code",
   "execution_count": 77,
   "id": "9bca5eac",
   "metadata": {},
   "outputs": [],
   "source": [
    "y_pred=reg.predict(x_train)"
   ]
  },
  {
   "cell_type": "code",
   "execution_count": 78,
   "id": "8efdf9de",
   "metadata": {},
   "outputs": [],
   "source": [
    "sheet_pred=reg.predict(x_train)"
   ]
  },
  {
   "cell_type": "code",
   "execution_count": 79,
   "id": "750745ef",
   "metadata": {},
   "outputs": [
    {
     "name": "stdout",
     "output_type": "stream",
     "text": [
      "[[15.72879893]\n",
      " [37.06267375]\n",
      " [15.36700513]\n",
      " [24.24466601]\n",
      " [17.73283694]\n",
      " [22.79966508]\n",
      " [25.6038509 ]\n",
      " [16.23488235]\n",
      " [28.34574237]\n",
      " [21.77397967]\n",
      " [20.29234559]\n",
      " [29.31810015]\n",
      " [20.7488378 ]\n",
      " [11.16238187]\n",
      " [18.32774267]\n",
      " [16.99442315]\n",
      " [18.06185314]\n",
      " [19.31295684]\n",
      " [23.36681985]\n",
      " [32.32346949]\n",
      " [26.79213352]\n",
      " [19.90516206]\n",
      " [24.11421784]\n",
      " [28.41058432]\n",
      " [21.76859594]\n",
      " [17.23196761]\n",
      " [22.91312983]\n",
      " [36.96524097]\n",
      " [37.35086221]\n",
      " [24.46464974]\n",
      " [20.24325831]\n",
      " [17.8144584 ]\n",
      " [17.87043505]\n",
      " [21.65088519]\n",
      " [14.5591809 ]\n",
      " [ 3.72206297]\n",
      " [27.50787475]\n",
      " [30.29891573]\n",
      " [21.92674382]\n",
      " [20.23210613]\n",
      " [19.22264005]\n",
      " [22.40923742]\n",
      " [31.5165453 ]\n",
      " [23.20741527]\n",
      " [29.30728194]\n",
      " [19.56836761]\n",
      " [23.70859028]\n",
      " [28.2088576 ]\n",
      " [14.39539455]\n",
      " [32.84368289]\n",
      " [15.42301572]\n",
      " [15.87001439]\n",
      " [28.21249193]\n",
      " [32.66593636]\n",
      " [14.74506235]\n",
      " [28.23903677]\n",
      " [32.77119847]\n",
      " [31.16541704]\n",
      " [21.40403382]\n",
      " [31.52437463]\n",
      " [ 5.53777393]\n",
      " [31.46968863]\n",
      " [26.77377468]\n",
      " [18.63646377]\n",
      " [18.7500816 ]\n",
      " [16.73807815]\n",
      " [31.01885179]\n",
      " [13.32022066]\n",
      " [23.8875426 ]\n",
      " [21.56822776]\n",
      " [15.42821275]\n",
      " [18.48409023]\n",
      " [18.0470436 ]\n",
      " [16.78705811]\n",
      " [20.51240853]\n",
      " [32.05104161]\n",
      " [22.98179298]\n",
      " [15.09710762]\n",
      " [31.2246206 ]\n",
      " [35.83174626]\n",
      " [22.59744558]\n",
      " [24.62901349]\n",
      " [15.23290574]\n",
      " [18.23847875]\n",
      " [35.97977213]\n",
      " [26.48562017]\n",
      " [32.20713442]\n",
      " [25.77403983]\n",
      " [19.19765766]\n",
      " [22.71816235]\n",
      " [21.37587577]\n",
      " [17.50487105]\n",
      " [27.29641647]\n",
      " [15.83183609]\n",
      " [23.78426758]\n",
      " [27.94760452]\n",
      " [21.79583707]\n",
      " [26.56489786]\n",
      " [25.0879623 ]\n",
      " [18.27947622]\n",
      " [26.73377909]\n",
      " [27.88755184]\n",
      " [18.81099463]\n",
      " [33.24593064]\n",
      " [26.44134488]\n",
      " [18.39696616]\n",
      " [30.53754709]\n",
      " [20.41231508]\n",
      " [25.57176958]\n",
      " [26.4375746 ]\n",
      " [21.34693641]\n",
      " [17.80849735]\n",
      " [19.08324163]\n",
      " [21.54854424]\n",
      " [24.003623  ]\n",
      " [31.71533406]\n",
      " [20.07798337]\n",
      " [23.2979359 ]\n",
      " [ 4.71660103]\n",
      " [12.39477006]\n",
      " [25.92194681]\n",
      " [20.05991322]\n",
      " [23.47306097]\n",
      " [23.21886196]\n",
      " [18.20933548]\n",
      " [29.8663359 ]\n",
      " [32.24998303]\n",
      " [19.41341254]\n",
      " [16.52915066]\n",
      " [26.2199685 ]\n",
      " [20.75539337]\n",
      " [25.15878833]\n",
      " [19.74495919]\n",
      " [23.97514215]\n",
      " [18.24819317]\n",
      " [22.07293543]\n",
      " [12.19576058]\n",
      " [20.77227478]\n",
      " [26.3658883 ]\n",
      " [24.83291417]\n",
      " [19.69898559]\n",
      " [15.24672981]\n",
      " [23.76893181]\n",
      " [36.14678515]\n",
      " [17.12439584]\n",
      " [10.68829515]\n",
      " [20.59119959]\n",
      " [22.86615419]\n",
      " [18.90393272]\n",
      " [24.59625286]\n",
      " [25.25983855]\n",
      " [16.16020692]\n",
      " [26.63076982]\n",
      " [18.45504896]\n",
      " [24.52726691]\n",
      " [24.11535566]\n",
      " [38.41104027]\n",
      " [29.62378144]\n",
      " [26.69507438]\n",
      " [27.30448357]\n",
      " [28.83560663]\n",
      " [25.64926401]\n",
      " [23.16441374]\n",
      " [24.65379205]\n",
      " [36.71275127]\n",
      " [16.76655917]\n",
      " [32.90543389]\n",
      " [28.37624426]\n",
      " [15.19394604]\n",
      " [29.24384952]\n",
      " [24.35300203]\n",
      " [10.3524178 ]\n",
      " [18.63902825]\n",
      " [19.59197416]\n",
      " [27.31018995]\n",
      " [ 8.3556145 ]\n",
      " [23.06933564]\n",
      " [26.20901426]\n",
      " [30.05245513]\n",
      " [31.00387261]\n",
      " [24.13087837]\n",
      " [20.82312254]\n",
      " [28.48444442]\n",
      " [28.88635255]\n",
      " [20.05142155]\n",
      " [24.10049537]\n",
      " [26.59325991]\n",
      " [29.30774044]\n",
      " [23.96810513]\n",
      " [21.31353025]\n",
      " [20.09953501]\n",
      " [13.22642188]\n",
      " [21.68816338]\n",
      " [27.03402565]\n",
      " [11.25337814]\n",
      " [33.05726397]\n",
      " [37.02790905]\n",
      " [18.30452657]\n",
      " [ 9.21948351]\n",
      " [31.83919279]\n",
      " [32.16031169]\n",
      " [23.31860448]\n",
      " [21.69955326]\n",
      " [23.92777589]\n",
      " [22.62748881]\n",
      " [23.64142161]\n",
      " [26.92039068]\n",
      " [33.36060142]\n",
      " [20.93043963]\n",
      " [22.19098587]\n",
      " [21.47692591]\n",
      " [21.06582992]\n",
      " [23.50611628]\n",
      " [33.6854227 ]\n",
      " [19.11756472]\n",
      " [20.81271191]\n",
      " [13.91138941]\n",
      " [29.31633394]\n",
      " [39.44159957]\n",
      " [22.95270079]\n",
      " [24.26910487]\n",
      " [11.74672381]\n",
      " [30.35361871]\n",
      " [23.40022577]\n",
      " [20.11531247]\n",
      " [26.92358364]\n",
      " [21.02201321]\n",
      " [ 5.86240827]\n",
      " [24.23725535]\n",
      " [17.84725306]\n",
      " [ 8.94858397]\n",
      " [22.77065758]\n",
      " [22.53328294]\n",
      " [35.59338663]\n",
      " [32.37053008]\n",
      " [20.55266469]\n",
      " [ 6.26054628]\n",
      " [34.88544071]\n",
      " [20.0468361 ]\n",
      " [17.90414688]\n",
      " [19.15676203]\n",
      " [19.71192676]\n",
      " [31.18803877]\n",
      " [29.86750775]\n",
      " [20.22629793]\n",
      " [16.65621916]\n",
      " [27.03568994]\n",
      " [27.32744492]\n",
      " [18.82125832]\n",
      " [22.27149748]\n",
      " [14.97318092]\n",
      " [24.53642075]\n",
      " [24.39043306]\n",
      " [19.3364445 ]\n",
      " [24.02887703]\n",
      " [21.2694419 ]\n",
      " [28.28524816]\n",
      " [26.77472572]\n",
      " [29.09212127]\n",
      " [28.88723569]\n",
      " [21.88876918]\n",
      " [17.58883618]\n",
      " [22.12517591]\n",
      " [29.90427643]\n",
      " [25.82812541]\n",
      " [27.7799121 ]\n",
      " [27.79677638]\n",
      " [23.99795066]\n",
      " [17.77685756]\n",
      " [27.38051755]\n",
      " [26.47733242]\n",
      " [27.1388122 ]\n",
      " [31.88270375]\n",
      " [10.41596935]\n",
      " [20.79597752]\n",
      " [27.22259048]\n",
      " [20.07503942]\n",
      " [39.88622053]\n",
      " [19.33265733]\n",
      " [20.02238028]\n",
      " [24.87324922]\n",
      " [28.05577073]\n",
      " [29.51055422]\n",
      " [18.96750092]\n",
      " [28.54504062]\n",
      " [33.21709303]\n",
      " [38.06578818]\n",
      " [ 8.57802686]\n",
      " [17.43264138]\n",
      " [23.64131978]\n",
      " [ 9.05630858]\n",
      " [30.21926432]\n",
      " [30.15163707]\n",
      " [29.69646954]\n",
      " [15.90982321]\n",
      " [ 6.48402857]\n",
      " [19.14619833]\n",
      " [ 0.70877943]\n",
      " [24.35128674]\n",
      " [14.19596042]\n",
      " [28.92240798]\n",
      " [ 5.95162127]\n",
      " [15.70588834]\n",
      " [17.67594328]\n",
      " [24.69366867]\n",
      " [10.36038283]\n",
      " [21.23639249]\n",
      " [39.536434  ]\n",
      " [22.81872004]\n",
      " [-5.54498935]\n",
      " [14.84867698]\n",
      " [ 9.67874396]\n",
      " [29.10978391]\n",
      " [25.69537348]\n",
      " [12.48053543]\n",
      " [25.28482085]\n",
      " [31.34759618]\n",
      " [22.76802512]\n",
      " [20.59223565]\n",
      " [19.35084629]\n",
      " [23.30165518]\n",
      " [23.80554759]\n",
      " [25.10902755]\n",
      " [17.12341078]\n",
      " [32.15052929]\n",
      " [26.32567206]\n",
      " [26.08184384]\n",
      " [11.89114945]\n",
      " [20.20455942]\n",
      " [22.4963783 ]\n",
      " [26.23168691]\n",
      " [ 2.79241786]\n",
      " [28.7586217 ]\n",
      " [22.61792714]\n",
      " [20.39874568]\n",
      " [35.85818902]\n",
      " [31.03026453]\n",
      " [17.28055662]\n",
      " [20.23044176]\n",
      " [39.68763561]\n",
      " [18.71085026]\n",
      " [19.75092024]\n",
      " [15.19024374]\n",
      " [30.70311662]\n",
      " [31.20386715]\n",
      " [ 4.16221729]\n",
      " [17.76838295]\n",
      " [22.78531404]\n",
      " [27.73867686]\n",
      " [30.97946762]\n",
      " [26.03315299]\n",
      " [21.58414117]\n",
      " [31.21173034]\n",
      " [21.29009342]\n",
      " [21.17059949]\n",
      " [21.85561802]\n",
      " [ 3.17659553]\n",
      " [34.84361102]\n",
      " [26.25278005]\n",
      " [28.44905141]\n",
      " [21.74758767]\n",
      " [ 4.22001123]\n",
      " [21.26823603]\n",
      " [17.73113871]\n",
      " [ 4.95141095]\n",
      " [20.14890533]\n",
      " [30.34269849]\n",
      " [19.82296329]\n",
      " [21.98520001]\n",
      " [18.9549671 ]\n",
      " [25.94752356]\n",
      " [16.57033499]\n",
      " [19.58156353]\n",
      " [21.08868934]\n",
      " [16.9645157 ]\n",
      " [12.80549249]\n",
      " [20.22959248]\n",
      " [28.15493585]\n",
      " [36.27032116]\n",
      " [21.8885146 ]\n",
      " [23.66988558]\n",
      " [18.14226873]\n",
      " [29.82039624]\n",
      " [12.21501946]\n",
      " [18.49181756]\n",
      " [ 8.3041892 ]\n",
      " [37.79256201]\n",
      " [17.43141862]\n",
      " [20.06166245]\n",
      " [25.84385793]\n",
      " [18.24873662]\n",
      " [18.31053845]\n",
      " [19.19758961]\n",
      " [33.1407365 ]\n",
      " [29.2213407 ]\n",
      " [ 7.27006337]\n",
      " [22.29552875]\n",
      " [11.19753719]\n",
      " [18.64086243]\n",
      " [20.07752478]\n",
      " [31.95151981]\n",
      " [16.10586061]\n",
      " [23.90909433]\n",
      " [25.82225529]]\n"
     ]
    }
   ],
   "source": [
    "print(y_pred)"
   ]
  },
  {
   "cell_type": "code",
   "execution_count": 80,
   "id": "e611991a",
   "metadata": {},
   "outputs": [
    {
     "name": "stdout",
     "output_type": "stream",
     "text": [
      "     MEDV\n",
      "33   13.1\n",
      "283  50.0\n",
      "418   8.8\n",
      "502  20.6\n",
      "402  12.1\n",
      "..    ...\n",
      "486  19.1\n",
      "189  34.9\n",
      "495  23.1\n",
      "206  24.4\n",
      "355  20.6\n",
      "\n",
      "[404 rows x 1 columns]\n"
     ]
    }
   ],
   "source": [
    "print(y_train)"
   ]
  },
  {
   "cell_type": "code",
   "execution_count": 84,
   "id": "2fc1e0a8",
   "metadata": {},
   "outputs": [],
   "source": [
    "matplotlib inline"
   ]
  },
  {
   "cell_type": "code",
   "execution_count": 86,
   "id": "7d6ed728",
   "metadata": {},
   "outputs": [
    {
     "data": {
      "text/plain": [
       "Text(0.5, 0, 'Y Prediction')"
      ]
     },
     "execution_count": 86,
     "metadata": {},
     "output_type": "execute_result"
    },
    {
     "data": {
      "image/png": "[encoded data removed]",
      "text/plain": [
       "<Figure size 432x288 with 1 Axes>"
      ]
     },
     "metadata": {
      "needs_background": "light"
     },
     "output_type": "display_data"
    }
   ],
   "source": [
    "plt.xlabel(\"Y Prediction\")"
   ]
  },
  {
   "cell_type": "code",
   "execution_count": 88,
   "id": "6ddcfdd9",
   "metadata": {},
   "outputs": [
    {
     "data": {
      "text/plain": [
       "Text(0.5, 0, 'Y Train')"
      ]
     },
     "execution_count": 88,
     "metadata": {},
     "output_type": "execute_result"
    },
    {
     "data": {
      "image/png": "[encoded data removed]",
      "text/plain": [
       "<Figure size 432x288 with 1 Axes>"
      ]
     },
     "metadata": {
      "needs_background": "light"
     },
     "output_type": "display_data"
    }
   ],
   "source": [
    "plt.xlabel(\"Y Train\")"
   ]
  },
  {
   "cell_type": "code",
   "execution_count": 89,
   "id": "f023a04a",
   "metadata": {},
   "outputs": [
    {
     "data": {
      "text/plain": [
       "(0.0, 60.0)"
      ]
     },
     "execution_count": 89,
     "metadata": {},
     "output_type": "execute_result"
    },
    {
     "data": {
      "image/png": "[encoded data removed]",
      "text/plain": [
       "<Figure size 432x288 with 1 Axes>"
      ]
     },
     "metadata": {
      "needs_background": "light"
     },
     "output_type": "display_data"
    }
   ],
   "source": [
    "plt.xlim(0,60)"
   ]
  },
  {
   "cell_type": "code",
   "execution_count": 90,
   "id": "dc1448ad",
   "metadata": {},
   "outputs": [
    {
     "data": {
      "text/plain": [
       "(0.0, 60.0)"
      ]
     },
     "execution_count": 90,
     "metadata": {},
     "output_type": "execute_result"
    },
    {
     "data": {
      "image/png": "[encoded data removed]",
      "text/plain": [
       "<Figure size 432x288 with 1 Axes>"
      ]
     },
     "metadata": {
      "needs_background": "light"
     },
     "output_type": "display_data"
    }
   ],
   "source": [
    "plt.ylim(0,60)"
   ]
  },
  {
   "cell_type": "code",
   "execution_count": 91,
   "id": "9e432250",
   "metadata": {},
   "outputs": [
    {
     "data": {
      "text/plain": [
       "<matplotlib.collections.PathCollection at 0x1ca0084f760>"
      ]
     },
     "execution_count": 91,
     "metadata": {},
     "output_type": "execute_result"
    },
    {
     "data": {
      "image/png": "[encoded data removed]",
      "text/plain": [
       "<Figure size 432x288 with 1 Axes>"
      ]
     },
     "metadata": {
      "needs_background": "light"
     },
     "output_type": "display_data"
    }
   ],
   "source": [
    "plt.scatter(y_pred,y_train,color=\"blue\",marker=\"*\")"
   ]
  },
  {
   "cell_type": "code",
   "execution_count": 92,
   "id": "2533fd0c",
   "metadata": {},
   "outputs": [],
   "source": [
    "%matplotlib inline"
   ]
  },
  {
   "cell_type": "code",
   "execution_count": 93,
   "id": "25bee8df",
   "metadata": {},
   "outputs": [
    {
     "data": {
      "text/plain": [
       "<matplotlib.collections.PathCollection at 0x1ca008c1dc0>"
      ]
     },
     "execution_count": 93,
     "metadata": {},
     "output_type": "execute_result"
    },
    {
     "data": {
      "image/png": "[encoded data removed]",
      "text/plain": [
       "<Figure size 432x288 with 1 Axes>"
      ]
     },
     "metadata": {
      "needs_background": "light"
     },
     "output_type": "display_data"
    }
   ],
   "source": [
    "plt.scatter(y_train,y_pred, c='green')"
   ]
  },
  {
   "cell_type": "code",
   "execution_count": 94,
   "id": "c2cd4e8e",
   "metadata": {},
   "outputs": [
    {
     "data": {
      "text/plain": [
       "Text(0.5, 0, \"Price:in $1000's\")"
      ]
     },
     "execution_count": 94,
     "metadata": {},
     "output_type": "execute_result"
    },
    {
     "data": {
      "image/png": "[encoded data removed]",
      "text/plain": [
       "<Figure size 432x288 with 1 Axes>"
      ]
     },
     "metadata": {
      "needs_background": "light"
     },
     "output_type": "display_data"
    }
   ],
   "source": [
    "plt.xlabel(\"Price:in $1000's\")"
   ]
  },
  {
   "cell_type": "code",
   "execution_count": 95,
   "id": "4c56d388",
   "metadata": {},
   "outputs": [
    {
     "data": {
      "text/plain": [
       "Text(0, 0.5, 'Predicted value')"
      ]
     },
     "execution_count": 95,
     "metadata": {},
     "output_type": "execute_result"
    },
    {
     "data": {
      "image/png": "[encoded data removed]",
      "text/plain": [
       "<Figure size 432x288 with 1 Axes>"
      ]
     },
     "metadata": {
      "needs_background": "light"
     },
     "output_type": "display_data"
    }
   ],
   "source": [
    "plt.ylabel(\"Predicted value\")"
   ]
  },
  {
   "cell_type": "code",
   "execution_count": 98,
   "id": "4d77eb4a",
   "metadata": {},
   "outputs": [
    {
     "data": {
      "text/plain": [
       "Text(0.5, 1.0, 'True value vs Predicted value : Linear Regression')"
      ]
     },
     "execution_count": 98,
     "metadata": {},
     "output_type": "execute_result"
    },
    {
     "data": {
      "image/png": "[encoded data removed]",
      "text/plain": [
       "<Figure size 432x288 with 1 Axes>"
      ]
     },
     "metadata": {
      "needs_background": "light"
     },
     "output_type": "display_data"
    }
   ],
   "source": [
    "plt.title(\"True value vs Predicted value : Linear Regression\")"
   ]
  },
  {
   "cell_type": "code",
   "execution_count": 97,
   "id": "55d2eb2f",
   "metadata": {},
   "outputs": [],
   "source": [
    "plt.show()"
   ]
  },
  {
   "cell_type": "code",
   "execution_count": null,
   "id": "c1b23d53",
   "metadata": {},
   "outputs": [],
   "source": []
  }
 ],
 "metadata": {
  "kernelspec": {
   "display_name": "Python 3 (ipykernel)",
   "language": "python",
   "name": "python3"
  },
  "language_info": {
   "codemirror_mode": {
    "name": "ipython",
    "version": 3
   },
   "file_extension": ".py",
   "mimetype": "text/x-python",
   "name": "python",
   "nbconvert_exporter": "python",
   "pygments_lexer": "ipython3",
   "version": "3.9.12"
  }
 },
 "nbformat": 4,
 "nbformat_minor": 5
}
